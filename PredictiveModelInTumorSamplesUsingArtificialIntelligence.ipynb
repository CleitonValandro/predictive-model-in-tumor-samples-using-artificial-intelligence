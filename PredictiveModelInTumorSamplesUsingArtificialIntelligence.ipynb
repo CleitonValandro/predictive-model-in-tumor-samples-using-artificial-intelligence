{
  "nbformat": 4,
  "nbformat_minor": 0,
  "metadata": {
    "colab": {
      "provenance": [],
      "authorship_tag": "ABX9TyMDNBzEtTZktCYbRV14WgdA",
      "include_colab_link": true
    },
    "kernelspec": {
      "name": "python3",
      "display_name": "Python 3"
    },
    "language_info": {
      "name": "python"
    }
  },
  "cells": [
    {
      "cell_type": "markdown",
      "metadata": {
        "id": "view-in-github",
        "colab_type": "text"
      },
      "source": [
        "<a href=\"https://colab.research.google.com/github/CleitonValandro/predictive-model-in-tumor-samples-using-artificial-intelligence/blob/task%2Fnew-improvements/PredictiveModelInTumorSamplesUsingArtificialIntelligence.ipynb\" target=\"_parent\"><img src=\"https://colab.research.google.com/assets/colab-badge.svg\" alt=\"Open In Colab\"/></a>"
      ]
    },
    {
      "cell_type": "markdown",
      "metadata": {
        "id": "2J7h9tmqutZK"
      },
      "source": [
        "**Instalação e importação de dependências**\n",
        "\n"
      ]
    },
    {
      "cell_type": "code",
      "metadata": {
        "id": "upsxtiH9niUa"
      },
      "source": [
        "#xenaPython é uma biblioteca para acessar e processar a base de dados do TCGA\n",
        "# https://github.com/ucscXena/xenaPython\n",
        "!pip install xenaPython\n",
        "!pip install --upgrade xenaPython\n",
        "!pip install pandas"
      ],
      "execution_count": null,
      "outputs": []
    },
    {
      "cell_type": "code",
      "metadata": {
        "id": "xzpiFRmBu7pG"
      },
      "source": [
        "import xenaPython as xena\n",
        "import pandas as pd\n",
        "import os \n",
        "import sys\n",
        "import pytz\n",
        "import numpy as np\n",
        "import re\n",
        "import matplotlib.pyplot as plt\n",
        "from datetime import datetime"
      ],
      "execution_count": null,
      "outputs": []
    },
    {
      "cell_type": "markdown",
      "source": [
        "**Google Drive**\n",
        "\n",
        "Conexão do Google Drive ao Colab e criação do diretório\n",
        "\n",
        "Diretório utilizado: (content/drive/MyDrive/Google Colab/Datasets/{date and time}/...)"
      ],
      "metadata": {
        "id": "NQBBpnT_PAZN"
      }
    },
    {
      "cell_type": "code",
      "source": [
        "# (Opcional) Escolha um diretório específico ou algum diretório que já tenha sido gerado através do código abaixo\n",
        "# Se a variável abaixo estiver vazia, será gerado um novo diretório sempre que o trecho abaixo de código for executado\n",
        "# Exemplo: \"/content/drive/MyDrive/Google Colab/Datasets/2023.03.23-21:40:47\"\n",
        "drive_path = \"\""
      ],
      "metadata": {
        "id": "Qo7oF_0BO-Yw"
      },
      "execution_count": null,
      "outputs": []
    },
    {
      "cell_type": "code",
      "source": [
        "#Conectar Google Drive\n",
        "from google.colab import drive\n",
        "drive.mount('/content/drive', force_remount=True)\n",
        "\n",
        "# Barra do diretório\n",
        "bar = '/'\n",
        "drive_path += bar\n",
        "\n",
        "csv_name = datetime.now(pytz.timezone('America/Sao_Paulo')).strftime(\"%Y.%m.%d-%H:%M:%S\")\n",
        "google_drive_path = 'Google Colab'+bar+'Datasets'+bar+csv_name\n",
        "\n",
        "# Gerando as pastas do diretório final\n",
        "def check_dir(dir, bar):\n",
        "\tdir_split = dir.split(bar)\n",
        "\tdrive_dir = os.getcwd()+bar+'drive'+bar+'MyDrive'\n",
        "\tfor dir in dir_split:\n",
        "\t\tdrive_temp_dir = drive_dir+bar+dir\n",
        "\t\tif not os.path.isdir(drive_temp_dir):\n",
        "\t\t\tos.mkdir(drive_temp_dir)\n",
        "\t\tdrive_dir = drive_temp_dir\n",
        "\treturn drive_dir+bar\n",
        "\n",
        "if not drive_path:\n",
        "\tdrive_path = check_dir(google_drive_path, bar)\n",
        "\n",
        "print(drive_path)"
      ],
      "metadata": {
        "id": "FcrrEKdiO61o"
      },
      "execution_count": null,
      "outputs": []
    },
    {
      "cell_type": "markdown",
      "source": [
        "**Importação dos dados do TCGA via Xena Browser**\n",
        "\n",
        "Nesta etapa, escolhemos os datasets que iremos trabalhar (Gene de expressão, fenotipos e sitios de metilação)\n",
        "\n",
        "Agrupa todas as inforações em uma só planilha onde posteriormente, a mesma é salva no diretório do Google Drive"
      ],
      "metadata": {
        "id": "ZkMH6X0rO2Th"
      }
    },
    {
      "cell_type": "code",
      "metadata": {
        "id": "N47dRbFKu_he"
      },
      "source": [
        "#Gene escolhido\n",
        "chosen_gene_code = \"ENSG00000135318.11\";\n",
        "chosen_gene_name = \"NT5E\";\n",
        "\n",
        "#Selecionando a base de dados\n",
        "#Gene de expressão\n",
        "gene_expression_hub = \"https://toil.xenahubs.net\"\n",
        "gene_expression_dataset = \"tcga_RSEM_gene_fpkm\"\n",
        "\n",
        "#Fenotipos\n",
        "phenotype_hub = \"https://pancanatlas.xenahubs.net\"\n",
        "phenotype_dataset = \"Survival_SupplementalTable_S1_20171025_xena_sp\"\n",
        "\n",
        "#DNA methylation (Methylation27K)\n",
        "_27_methylation_hub = \"https://tcga.xenahubs.net\"\n",
        "_27_methylation_dataset = \"TCGA.PANCAN.sampleMap/HumanMethylation27\"\n",
        "_27_methylation_sitios = ['cg17488985', 'cg17966619']\n",
        "\n",
        "#DNA methylation (Methylation450K)\n",
        "_450_methylation_hub = \"https://pancanatlas.xenahubs.net\"\n",
        "_450_methylation_dataset = \"jhu-usc.edu_PANCAN_HumanMethylation450.betaValue_whitelisted.tsv.synapse_download_5096262.xena\"\n",
        "_450_methylation_sitios = ['cg27039625', 'cg17644557', 'cg13315970', 'cg21730993', 'cg10663055', 'cg17488985', 'cg24635468', 'cg23157089', 'cg17966619', 'cg27297263', 'cg00925339', 'cg23172664', 'cg24702826', 'cg09989847']\n",
        "\n",
        "gene_found = False\n",
        "number_samples = 0\n",
        "genes = []\n",
        "samples = []\n",
        "\n",
        "genes = xena.dataset_field (gene_expression_hub, gene_expression_dataset)\n",
        "\n",
        "# Verifica se existe o gene escolhido\n",
        "for gene in genes:\n",
        "  if gene == chosen_gene_code:\n",
        "    gene_found = True\n",
        "\n",
        "if gene_found == False:\n",
        "    print(\"Gene \"+chosen_gene_code+\" não foi encontrado!\")  \n",
        "    exit()\n",
        "else:\n",
        "    print(\"Gene \"+chosen_gene_code+\" foi encontrado!\")  \n",
        "\n",
        "# Verifica o fenotipo correspondente a amostra\n",
        "phenotypes = xena.dataset_field (phenotype_hub, phenotype_dataset)\n",
        "\n",
        "# Reune as amostras\n",
        "number_samples = xena.dataset_samples_n_dense_matrix(gene_expression_hub, gene_expression_dataset)\n",
        "samples = xena.dataset_samples (gene_expression_hub, gene_expression_dataset, number_samples[0])\n",
        "\n",
        "# Cria as colunas na planilha\n",
        "columns = ['Sample', chosen_gene_code]\n",
        "for phenotype in phenotypes:\n",
        "    columns.append(phenotype)\n",
        "for sitio_methylation_450 in _450_methylation_sitios:\n",
        "    columns.append(sitio_methylation_450)\n",
        "for sitio_methylation_27 in _27_methylation_sitios:\n",
        "    columns.append(sitio_methylation_27)\n",
        "df = pd.DataFrame(columns=columns)\n",
        "\n",
        "# Amostras e valor correspondente\n",
        "punctuation = xena.dataset_probe_values(gene_expression_hub, gene_expression_dataset, samples, [chosen_gene_code])\n",
        "# Fenotipos correspondente a amostra\n",
        "phenotype_values = xena.dataset_probe_values(phenotype_hub, phenotype_dataset, samples, phenotypes)\n",
        "# Metilação correspondente (Methylation450K)\n",
        "_450_methylation_values = xena.dataset_probe_values(_450_methylation_hub, _450_methylation_dataset, samples, _450_methylation_sitios)\n",
        "# Metilação correspondente (Methylation27K)\n",
        "_27_methylation_values = xena.dataset_probe_values(_27_methylation_hub, _27_methylation_dataset, samples, _27_methylation_sitios)\n",
        "\n",
        "# Verifica as amostras correspondentes ao gene escolhido\n",
        "for index, sample in enumerate(samples):\n",
        "    # Amostras e valor correspondente\n",
        "    row = ''\n",
        "    row = [sample, punctuation[1][0][index]]\n",
        "    \n",
        "    # Fenotipos correspondente a amostra\n",
        "    for phenotype_value in phenotype_values[1]:\n",
        "       row.append(phenotype_value[index])\n",
        "  \n",
        "    # Metilação correspondente (Methylation450K)\n",
        "    for _450_methylation_value in _450_methylation_values[1]:\n",
        "        row.append(_450_methylation_value[index])\n",
        "\n",
        "    # Metilação correspondente (Methylation27K)\n",
        "    for _27_methylation_value in _27_methylation_values[1]:\n",
        "        row.append(_27_methylation_value[index])\n",
        "\n",
        "    # Incrementa uma nova linha na planilha\n",
        "    df.loc[index] = row\n",
        "\n",
        "# Salva a planilha\n",
        "df.to_csv(drive_path+\"imported_samples\", sep = ',')        "
      ],
      "execution_count": null,
      "outputs": []
    },
    {
      "cell_type": "markdown",
      "metadata": {
        "id": "JjAYTRsgvIjK"
      },
      "source": [
        "**Exibe a planilha**\n",
        "\n",
        "Planilha que foi anteriormente salva no Google Drive"
      ]
    },
    {
      "cell_type": "code",
      "metadata": {
        "id": "_5DDi0cMvK8u"
      },
      "source": [
        "RawData = pd.read_csv(drive_path+\"imported_samples\", sep=',')\n",
        "display(RawData)"
      ],
      "execution_count": null,
      "outputs": []
    },
    {
      "cell_type": "markdown",
      "metadata": {
        "id": "iedi7C6ZvQwl"
      },
      "source": [
        "**Realiza a organização dos dados**\n",
        "\n",
        "Pares e amostras simples\n",
        "\n",
        "Salva ambas as planilhas no diretório do Google Colab"
      ]
    },
    {
      "cell_type": "code",
      "metadata": {
        "id": "kA1yNpumvLrm"
      },
      "source": [
        "#Gera duas planilhas, uma com as amostras combinadas e outra com dados simples(Sem combinações)\n",
        "RawData = pd.read_csv(drive_path+\"imported_samples\", sep=',')\n",
        "dfList = RawData\n",
        "dfPairedSample = pd.DataFrame(columns=RawData.columns.values.tolist())\n",
        "dfSimpleSamples = pd.DataFrame(columns=RawData.columns.values.tolist())\n",
        "\n",
        "dfList['reading'] = 0\n",
        "dfList['pairing'] = 0\n",
        "dfPairedSample.insert(0, 'pairing', '')\n",
        "pairing = 1\n",
        "\n",
        "# Função que realiza o agrupamento das amostras\n",
        "def check_corresponding(sample_exists):\n",
        "  item_found = []\n",
        "  for index, item in enumerate(sample_exists):\n",
        "     if item == True:\n",
        "       inx = dfList.loc[index]['Sample'][13]+''+dfList.loc[index]['Sample'][14]\n",
        "       item_found.insert(int(inx), (index, dfList.loc[index]['Sample']))  \n",
        "  if len(item_found) > 1:\n",
        "    # Organiza os dados (01, 06, 11..) de forma ordenada\n",
        "    item_found = sorted(item_found, key = lambda x: (x[1]))    \n",
        "  return item_found\n",
        "\n",
        "for index, item in enumerate(dfList.iterrows()):\n",
        "  #if index < 100:\n",
        "    sample_exists = False\n",
        "    sample_exists = dfList ['Sample']. str.contains (item[1]['Sample'][:12], case = False)\n",
        "    check_corresponding_index = check_corresponding(sample_exists)\n",
        "    if len(check_corresponding_index) > 1:\n",
        "      # Quando for encontrado conjunto de combinações\n",
        "      found = 0\n",
        "      for item_check in check_corresponding_index:\n",
        "        if dfList.loc[item_check[0]]['reading'] == 0:\n",
        "          dfList.loc[item_check[0], 'pairing'] = str(pairing)+'.'+item_check[1][13]+item_check[1][14]\n",
        "          dfPairedSample.loc[len(dfPairedSample)] = dfList.loc[item_check[0]]\n",
        "          dfList.loc[item_check[0], 'reading'] = 1\n",
        "          found = 1\n",
        "      if found == 1:\n",
        "        pairing = pairing + 1\n",
        "    else:\n",
        "      # Quando for encontrado amostras simples(Sem combinações)\n",
        "      if dfList.loc[check_corresponding_index[0][0]]['reading'] == 0:\n",
        "        dfSimpleSamples.loc[len(dfSimpleSamples)] = dfList.loc[check_corresponding_index[0][0]]\n",
        "        dfList.loc[check_corresponding_index[0][0], \"reading\"] = 1\n",
        "\n",
        "display(dfSimpleSamples) \n",
        "display(dfPairedSample) \n",
        "\n",
        "# Salva a planilha\n",
        "dfSimpleSamples.to_csv(drive_path+\"unpaired_samples\", sep = ',') \n",
        "dfPairedSample.to_csv(drive_path+\"paired_samples\", sep = ',')   "
      ],
      "execution_count": null,
      "outputs": []
    },
    {
      "cell_type": "markdown",
      "source": [
        "**Informações/códigos úteis**"
      ],
      "metadata": {
        "id": "VxUXtc7R4B89"
      }
    },
    {
      "cell_type": "code",
      "source": [
        "methylation = ['cg27039625', 'cg17644557', 'cg13315970', 'cg21730993', 'cg10663055', 'cg17488985', 'cg24635468', 'cg23157089', 'cg17966619', 'cg27297263', 'cg00925339', 'cg23172664', 'cg24702826', 'cg09989847', 'cg17488985.1', 'cg17966619.1']\n",
        "type_tumor_name = [(\"1.0\", \"BLCA\"), (\"2.0\", \"BRCA\"), (\"3.0\", \"CESC\"), (\"4.0\", \"CHOL\"), (\"5.0\", \"COAD\"), (\"7.0\", \"ESCA\"), (\"8.0\", \"GBM\"), (\"9.0\", \"HNSC\"), (\"10.0\", \"KICH\"), (\"11.0\", \"KIRC\"), (\"12.0\", \"KIRP\"), (\"14.0\", \"LGG\"), (\"15.0\", \"LIHC\"), (\"16.0\", \"LUAD\"), (\"17.0\", \"LUSC\"), (\"19.0\", \"OV\"), (\"20.0\", \"PAAD\"), (\"21.0\", \"PCPG\"), (\"22.0\", \"PRAD\"), (\"23.0\", \"READ\"), (\"24.0\", \"SARC\"), (\"25.0\", \"SKCM\"), (\"26.0\", \"STAD\"), (\"27.0\", \"TGCT\"), (\"28.0\", \"THCA\"), (\"29.0\", \"THYM\"), (\"30.0\", \"UCEC\")]\n"
      ],
      "metadata": {
        "id": "rEu11vOC4G5T"
      },
      "execution_count": null,
      "outputs": []
    },
    {
      "cell_type": "markdown",
      "metadata": {
        "id": "bLQJfua-vV9H"
      },
      "source": [
        "**Estatistica descritiva**"
      ]
    },
    {
      "cell_type": "code",
      "metadata": {
        "id": "1eFT9uwLvWp9"
      },
      "source": [
        "#Tamanho do arquivo resultante\n",
        "dir_path = drive_path+\"paired_samples\"\n",
        "f_path = os.path.join(dir_path)\n",
        "f_size = os.path.getsize(f_path)\n",
        "f_size_kb = f_size/1024\n",
        "print('Tamanho do arquivo resultante:')\n",
        "print(str(int(f_size_kb))+' kb')"
      ],
      "execution_count": null,
      "outputs": []
    },
    {
      "cell_type": "code",
      "metadata": {
        "id": "Eoz-rXRkvfuO"
      },
      "source": [
        "#Quantos atributos (Colunas) e quantas estâncias (Linhas) tem na planilha\n",
        "data = pd.read_csv(drive_path+\"paired_samples\", sep=',')\n",
        "print('Quantidade de linhas e colunas:')\n",
        "print(str(data[data.columns[0]].count())+' linhas') \n",
        "print(str(len(data.columns.values.tolist()))+' colunas') "
      ],
      "execution_count": null,
      "outputs": []
    },
    {
      "cell_type": "code",
      "metadata": {
        "id": "7NH-QgXavi2G"
      },
      "source": [
        "#Quantidade de amostras e tipos tumorais\n",
        "temp_data = []\n",
        "temp_data.append([\"Sample\", drive_path+\"imported_samples\", \"Imported samples - Quantity in sample types:\"])\n",
        "temp_data.append([\"Sample\", drive_path+\"paired_samples\", \"Paired samples - Quantity in sample types:\"])\n",
        "temp_data.append([\"cancer type abbreviation\", drive_path+\"imported_samples\", \"Imported samples - Number of tumor types:\"])\n",
        "temp_data.append([\"cancer type abbreviation\", drive_path+\"paired_samples\", \"Paired samples - Number of tumor types:\"])\n",
        "data_column = ['Type', 'Quantity', 'Percentage']\n",
        "number_sample_type = [[],[],[],[]]\n",
        "\n",
        "for idx, data_item in enumerate(temp_data):\n",
        "  data = pd.read_csv(str(data_item[1]), sep=',')\n",
        "  def check_exists(type_sample):\n",
        "    for index, item in enumerate(number_sample_type[idx]):\n",
        "      if str(item[0]) == str(type_sample):\n",
        "        number_sample_type[idx][index][1] = int(number_sample_type[idx][index][1])+1\n",
        "        return True\n",
        "    return False\n",
        "  for index, item in enumerate(data.iterrows()):\n",
        "    if str(data_item[0]) == \"Sample\":\n",
        "      type_sample = item[1][str(data_item[0])][13]+''+item[1][str(data_item[0])][14]\n",
        "    if str(data_item[0]) == \"cancer type abbreviation\":\n",
        "      type_sample = item[1][data_item[0]]\n",
        "\n",
        "    if check_exists(type_sample) == False:\n",
        "      number_sample_type[idx].append([type_sample, 1])\n",
        "  number_sample_type[idx] = sorted(number_sample_type[idx], key = lambda x: (x[0]))\n",
        "  for index, item in enumerate(number_sample_type[idx]):\n",
        "    percentage = ((number_sample_type[idx][index][1])/(data[data.columns[0]].count()))*100\n",
        "    number_sample_type[idx][index].append(percentage)\n",
        "\n",
        "  print(data_item[2])\n",
        "  print(str(data[data.columns[0]].count())+' samples') \n",
        "\n",
        "  df = pd.DataFrame(number_sample_type[idx])\n",
        "  df.columns = data_column\n",
        "  df = pd.concat([df], ignore_index=True)\n",
        "  display(df)\n",
        "  print()\n",
        "\n",
        "  grupos = []\n",
        "  valores = []\n",
        "  for index, item in enumerate(number_sample_type[idx]):\n",
        "    grupos.append(item[0])\n",
        "    valores.append(item[1])\n",
        "\n",
        "  plt.bar(grupos, valores)\n",
        "  plt.show()\n",
        "  print()"
      ],
      "execution_count": null,
      "outputs": []
    },
    {
      "cell_type": "code",
      "metadata": {
        "id": "AVkSOrWMvmQG"
      },
      "source": [
        "#Sítios de metilação\n",
        "vector_merge = [0, 1]\n",
        "methylation_data = []\n",
        "columns_methylation_data = ['Methylation', 'Quantity', 'Percentage']\n",
        "methylation_information = ['Original samples', 'Paired samples']\n",
        "\n",
        "for idx, vector_merge_item in enumerate(vector_merge):\n",
        "  df = pd.read_csv(str(temp_data[vector_merge_item][1]), sep=',')\n",
        "  methylation_data.append([])\n",
        "  for index, methylation_item in enumerate(methylation):\n",
        "    col_one_list = df[str(methylation_item)].tolist()\n",
        "    methylation_data[idx].append([])\n",
        "    methylation_data[idx][index].append(methylation_item)\n",
        "    with_value = 0\n",
        "    for vetor_item in col_one_list:\n",
        "      if vetor_item > 0:\n",
        "        with_value = with_value + 1\n",
        "    methylation_data[idx][index].append(with_value)\n",
        "    methylation_data[idx][index].append(((with_value)/(df[df.columns[0]].count()))*100)\n",
        "\n",
        "  print(methylation_information[idx])\n",
        "  print()\n",
        "  dfm = pd.DataFrame(methylation_data[idx])\n",
        "  dfm.columns = columns_methylation_data\n",
        "  dfm = pd.concat([dfm], ignore_index=True)\n",
        "  display(dfm)\n",
        "  print()\n",
        "  number_sample_type.append(methylation_data[idx])"
      ],
      "execution_count": null,
      "outputs": []
    },
    {
      "cell_type": "code",
      "metadata": {
        "id": "lM3P1Qcsvm-H"
      },
      "source": [
        "#Geração de gráficos\n",
        "vector_merge = [[0, 1], [2, 3], [4, 5]]\n",
        "vector_merge_names = [\"Types of samples\", \"Tumor types\", \"Methylation levels\"]\n",
        "\n",
        "def check_exists(type_sample, index):\n",
        "  for index, item in enumerate(number_sample_type[index]):\n",
        "    if str(item[0]) == str(type_sample):\n",
        "      return item[1]\n",
        "  return 0\n",
        "for idx, vector_merge_item in enumerate(vector_merge):\n",
        "  vector_merge_type = []\n",
        "  values_A = []\n",
        "  values_B = []\n",
        "\n",
        "  for index, item in enumerate(number_sample_type[vector_merge_item[0]]):\n",
        "    vector_merge_type.append(item[0])\n",
        "    values_A.append(item[1])\n",
        "    values_B.append(check_exists(item[0], vector_merge_item[1]))\n",
        "\n",
        "  # Cria o eixo x e atribui a tamanho da separação entre as barras\n",
        "  fig=plt.figure(figsize=(25, 10), dpi= 65, facecolor='w', edgecolor='k')\n",
        "  x1 =  np.arange(len(values_A))\n",
        "  \n",
        "  x2 = [x + 0.40 for x in x1]\n",
        "\n",
        "  # Plota as barras\n",
        "  plt.bar(x1, values_A, width=0.40, label = 'Imported samples', color = 'blue')\n",
        "  plt.bar(x2, values_B, width=0.40, label = 'Paired samples', color = 'red')\n",
        "\n",
        "  plt.xticks([x + 0.45 for x in range(len(values_A))], vector_merge_type)\n",
        "\n",
        "  # Inserir a legenda no gráfico\n",
        "  plt.legend()\n",
        "  plt.title(vector_merge_names[idx])\n",
        "  \n",
        "  plt.show()\n",
        "\n",
        "  # Cria um espaço entre os gráficos\n",
        "  print()"
      ],
      "execution_count": null,
      "outputs": []
    },
    {
      "cell_type": "markdown",
      "source": [
        "**Seleção dos dados**\n",
        "\n",
        "Agrupamento das amostras"
      ],
      "metadata": {
        "id": "pqXe1jz7Gw8g"
      }
    },
    {
      "cell_type": "code",
      "metadata": {
        "id": "WP71MN8lvppm"
      },
      "source": [
        "dfList = data\n",
        "dfList['reading'] = 0\n",
        "paired_list = []\n",
        "\n",
        "# Função que realiza o agrupamento das amostras\n",
        "def check_corresponding(sample_exists):\n",
        "  item_found = []\n",
        "  for index, item in enumerate(sample_exists):\n",
        "     if item == True:\n",
        "       inx = dfList.loc[index]['Sample'][13]+''+dfList.loc[index]['Sample'][14]\n",
        "       item_found.insert(int(inx), (index, dfList.loc[index]['Sample']))  \n",
        "  if len(item_found) > 1:\n",
        "    # Organiza os dados (01, 06, 11..) de forma ordenada\n",
        "    item_found = sorted(item_found, key = lambda x: (x[1]))    \n",
        "  return item_found\n",
        "def remove_duplicates(lista):\n",
        "    l = []\n",
        "    for i in lista:\n",
        "        if i not in l:\n",
        "            l.append(i)\n",
        "    l.sort()\n",
        "    return l\n",
        "for index, item in enumerate(dfList.iterrows()):\n",
        "  sample_exists = False\n",
        "  sample_exists = dfList ['Sample']. str.contains (item[1]['Sample'][:12], case = False)\n",
        "  check_corresponding_index = check_corresponding(sample_exists)\n",
        "  if len(check_corresponding_index) > 1:\n",
        "    # Quando for encontrado conjunto de combinações\n",
        "    paired_list.append(check_corresponding_index)\n",
        "paired_list = remove_duplicates(paired_list)\n",
        "print(paired_list)"
      ],
      "execution_count": null,
      "outputs": []
    },
    {
      "cell_type": "markdown",
      "source": [
        "Removendo as amostras que não serão utilizadas"
      ],
      "metadata": {
        "id": "56jJddFXHbz_"
      }
    },
    {
      "cell_type": "code",
      "metadata": {
        "id": "J_HYgsEqvtg-"
      },
      "source": [
        "temp_paired_list = []\n",
        "\n",
        "for x_index, x_item in enumerate(paired_list):\n",
        "  item_size_x = len(x_item)\n",
        "  final_sample = []\n",
        "  for y_index, y_item in enumerate(x_item):\n",
        "    final_sample.append(y_item[1][13:])  \n",
        "  if item_size_x == 3:\n",
        "    if '01' in final_sample and '06' in final_sample and '11' in final_sample:\n",
        "      paired_list[x_index].pop(final_sample.index('06'))\n",
        "      temp_paired_list.append(paired_list[x_index])\n",
        "      continue\n",
        "  elif item_size_x == 2:\n",
        "    if ('05' in final_sample and '11' in final_sample):\n",
        "      temp_paired_list.append(paired_list[x_index])\n",
        "      continue\n",
        "    elif ('01' in final_sample and '11' in final_sample):\n",
        "      temp_paired_list.append(paired_list[x_index])\n",
        "      continue\n",
        "\n",
        "paired_list = temp_paired_list\n",
        "print(paired_list)\n",
        "\n",
        "df_temp = pd.DataFrame(columns=data.columns.values.tolist())\n",
        "df_temp_index = 0\n",
        "for x_index, x_item in enumerate(paired_list):\n",
        "  for y_index, y_item in enumerate(x_item):\n",
        "    df_temp.loc[df_temp_index] = data.loc[y_item[0]]\n",
        "    df_temp_index = df_temp_index + 1\n",
        "  \n",
        "data = df_temp \n",
        "\n",
        "# Salva a planilha\n",
        "data.to_csv(drive_path+\"paired_and_filtered\", sep = ',')"
      ],
      "execution_count": null,
      "outputs": []
    },
    {
      "cell_type": "markdown",
      "source": [
        "Organiza os dados para gerar o Boxplot de cada tipo tumoral"
      ],
      "metadata": {
        "id": "l-XiCJHEHrg4"
      }
    },
    {
      "cell_type": "code",
      "metadata": {
        "id": "SUGN8ddQvyW2"
      },
      "source": [
        "df_cancer_type_abbreviation = data\n",
        "type_abbreviation = number_sample_type[3]\n",
        "\n",
        "name_type = []\n",
        "types_values = []\n",
        "for x_index, x_item in enumerate(type_abbreviation):\n",
        "  if str(x_item[0]) != str('nan'):\n",
        "    df_temp = pd.DataFrame(columns=data.columns.values.tolist())\n",
        "    name_type.append(str(x_item[0]))\n",
        "    types_values.append([[],[]])\n",
        "    for y_index, y_item in df_cancer_type_abbreviation.iterrows():\n",
        "      if y_item['cancer type abbreviation'] == x_item[0]:\n",
        "        df_temp.loc[y_index] = y_item\n",
        "        type_indice = y_item['Sample'][13]+y_item['Sample'][14]\n",
        "        if type_indice == '01' or type_indice == '05':\n",
        "          types_values[x_index][1].append(y_item['ENSG00000135318.11'])\n",
        "        if type_indice == '11':\n",
        "          types_values[x_index][0].append(y_item['ENSG00000135318.11'])\n",
        "    display(df_temp)"
      ],
      "execution_count": null,
      "outputs": []
    },
    {
      "cell_type": "markdown",
      "source": [
        "**Boxplot para cada tipo tumoral**"
      ],
      "metadata": {
        "id": "42UdYX7PHw6w"
      }
    },
    {
      "cell_type": "code",
      "metadata": {
        "id": "e7YYHW25v0QB"
      },
      "source": [
        "import plotly.graph_objects as go\n",
        "tumor_name_list = []\n",
        "\n",
        "colors = ['royalblue', 'indianred']\n",
        "name_description = ['Non-tumor', 'Tumor']\n",
        "\n",
        "for x_index, x_item in enumerate(types_values):\n",
        "  tumor_name_list.append(len(x_item[0]))\n",
        "  fig = go.Figure()\n",
        "\n",
        "  for xd, yd, cls in zip(name_description, types_values[x_index], colors):\n",
        "        fig.add_trace(go.Box(\n",
        "            y=yd,\n",
        "            name=xd,\n",
        "            boxpoints='all',\n",
        "            jitter=0.5,\n",
        "            whiskerwidth=0.2,\n",
        "            fillcolor=cls,\n",
        "            marker_size=7,\n",
        "            line_width=1)\n",
        "        )\n",
        "\n",
        "  tumor_name = \"\"\n",
        "  for name_index, name_item in enumerate(type_tumor_name):\n",
        "    if name_item[0] == str(name_type[x_index]):\n",
        "      tumor_name = name_item[1]\n",
        "    \n",
        "  fig.update_layout(\n",
        "    title=('Tumor type: '+name_type[x_index]+\" - \"+tumor_name),\n",
        "    xaxis=dict(title=('N = '+str(len(x_item[0]))), zeroline=False),\n",
        "    yaxis=dict(\n",
        "        autorange=True,\n",
        "        showgrid=True,\n",
        "        zeroline=True,\n",
        "        dtick=5,\n",
        "        gridcolor='rgb(255, 255, 255)',\n",
        "        gridwidth=1,\n",
        "        zerolinecolor='rgb(255, 255, 255)',\n",
        "        zerolinewidth=2,\n",
        "    ),\n",
        "    margin=dict(\n",
        "        l=40,\n",
        "        r=30,\n",
        "        b=80,\n",
        "        t=100,\n",
        "    ),\n",
        "    paper_bgcolor='rgb(243, 243, 243)',\n",
        "    plot_bgcolor='rgb(243, 243, 243)',\n",
        "    showlegend=True\n",
        "  )\n",
        "\n",
        "  fig.show()\n",
        "\n",
        "  # Espaço entre os gráficos\n",
        "  print()"
      ],
      "execution_count": null,
      "outputs": []
    },
    {
      "cell_type": "markdown",
      "source": [
        "**Estatística descritiva e análise estatística das amostras pareadas**"
      ],
      "metadata": {
        "id": "NvVtKguaIeXY"
      }
    },
    {
      "cell_type": "code",
      "metadata": {
        "id": "ddKMtAmIv2l-"
      },
      "source": [
        "df_temp = pd.DataFrame(columns=['Sample', 'P VALUE', 'N', 'NT_mean', 'NT_median', 'NT_sd', 'NT_min', 'NT_max', 'T_mean', 'T_median', 'T_sd', 'T_min', 'T_max'])\n",
        "\n",
        "import statistics\n",
        "from math import sqrt\n",
        "from numpy.random import seed\n",
        "from numpy.random import randn\n",
        "from numpy import mean\n",
        "from scipy.stats import sem\n",
        "from scipy.stats import t\n",
        "\n",
        "def independent_ttest(non_tumor_data, tumor_date):\n",
        "  mean1, mean2 = mean(non_tumor_data), mean(tumor_date)\n",
        "  se1, se2 = sem(non_tumor_data), sem(tumor_date)\n",
        "  sed = sqrt(se1**2.0 + se2**2.0)\n",
        "  t_stat = (mean1 - mean2) / sed\n",
        "  df = len(non_tumor_data) + len(tumor_date) - 2\n",
        "  p = (1.0 - t.cdf(abs(t_stat), df)) * 2.0\n",
        "  return p\n",
        "\n",
        "def p_value(non_tumor_data, tumor_date):\n",
        "  if non_tumor_data != [] and tumor_date != []:\n",
        "    p = independent_ttest(non_tumor_data, tumor_date)\n",
        "    return ('%.4f' % (p))\n",
        "  else:\n",
        "    return ''\n",
        "\n",
        "for x_index, x_item in enumerate(name_type):\n",
        "  nome_tumor = ''\n",
        "  for name_index, name_item in enumerate(type_tumor_name):\n",
        "    if name_item[0] == str(name_type[x_index]):\n",
        "      nome_tumor = name_item[1]\n",
        "\n",
        "  non_tumor_data = types_values[x_index][0]\n",
        "  tumor_date = types_values[x_index][1]\n",
        "  \n",
        "  # p-value\n",
        "  P_value =  p_value(non_tumor_data, tumor_date)\n",
        "\n",
        "  # Non-tumor\n",
        "  NT_mean = statistics.mean(non_tumor_data) if non_tumor_data != [] else ''\n",
        "  NT_median = statistics.median(non_tumor_data) if non_tumor_data != [] else ''\n",
        "  NT_sd = np.std(non_tumor_data) if non_tumor_data != [] else ''\n",
        "  NT_min = min(non_tumor_data) if non_tumor_data != [] else ''\n",
        "  NT_max = max(non_tumor_data) if non_tumor_data != [] else ''\n",
        "\n",
        "  # Tumor\n",
        "  T_mean = statistics.mean(tumor_date) if tumor_date != [] else ''\n",
        "  T_median = statistics.median(tumor_date) if tumor_date != [] else ''\n",
        "  T_sd = np.std(tumor_date) if tumor_date != [] else ''\n",
        "  T_min = min(tumor_date) if tumor_date != [] else ''\n",
        "  T_max = max(tumor_date) if tumor_date != [] else ''\n",
        "\n",
        "  df_temp.loc[x_index] = [(x_item+' - '+nome_tumor), P_value, tumor_name_list[x_index], NT_mean, NT_median, NT_sd, NT_min, NT_max, T_mean, T_median, T_sd, T_min, T_max]  # adding a row\n",
        "\n",
        "display(df_temp)"
      ],
      "execution_count": null,
      "outputs": []
    },
    {
      "cell_type": "markdown",
      "source": [
        "**Seleção dos tipos tumorais que possuem relavância para a aplicação de machine learning**\n",
        "\n",
        "Removendo os tipos tumorais sem relevância (P VALUE menor ou igual a 0.01)"
      ],
      "metadata": {
        "id": "QyrV5kymInl6"
      }
    },
    {
      "cell_type": "code",
      "metadata": {
        "id": "9olV9fYav3Vl"
      },
      "source": [
        "for x_index, x_item in enumerate(df_temp.iterrows()):\n",
        "  if int(x_item[1]['N']) == 0:\n",
        "    df_temp = df_temp.drop(x_index, axis=0)\n",
        "  elif float(x_item[1]['P VALUE']) > 0.01:\n",
        "    df_temp = df_temp.drop(x_index, axis=0)\n",
        "# Ordenando os tipos tumorais através do número de pares. \n",
        "df_temp_p_value = df_temp.sort_values(by='N', ascending=False)\n",
        "df_relevant_tumor_types = df_temp_p_value\n",
        "display(df_relevant_tumor_types)"
      ],
      "execution_count": null,
      "outputs": []
    },
    {
      "cell_type": "markdown",
      "source": [
        "**Gerando boxplot simplificado dos tipos tumorais relavantes**"
      ],
      "metadata": {
        "id": "yXAkrtBEJ3oC"
      }
    },
    {
      "cell_type": "code",
      "metadata": {
        "id": "vsn79Yj9v7p1"
      },
      "source": [
        "import seaborn as sns\n",
        "sns.set_theme(style=\"whitegrid\")\n",
        "tips = sns.load_dataset(\"tips\")\n",
        "\n",
        "tumor_name_list = []\n",
        "\n",
        "colors = ['royalblue', 'indianred']\n",
        "name_description = ['Non-tumor', 'Tumor']\n",
        "\n",
        "for x_index, x_item in enumerate(types_values):\n",
        "  nome_tumor = \"\"\n",
        "  for name_index, name_item in enumerate(type_tumor_name):\n",
        "    if name_item[0] == str(name_type[x_index]):\n",
        "      nome_tumor = name_type[x_index]+\" - \"+name_item[1]\n",
        "  \n",
        "  data_temp = {'Non-tumor':  types_values[x_index][0],\n",
        "        'Tumor': types_values[x_index][1]}\n",
        "  df = pd.DataFrame(data_temp)\n",
        "  \n",
        "  result = df_relevant_tumor_types['Sample'].str.contains(\"2.0 - BRCA\")\n",
        "  exists = nome_tumor in df_relevant_tumor_types.values\n",
        "  if exists == True:\n",
        "    plt.figure( figsize=(5, 6))\n",
        "    sns.boxplot(x=\"variable\", y=\"value\", data=pd.melt(df), palette={\"Non-tumor\": \"#2b76ca\", \"Tumor\": \"#b10026\"})\n",
        "    sns.swarmplot(x=\"variable\", y=\"value\", data=pd.melt(df), color=\"#140f07\")\n",
        "    plt.title(nome_tumor, loc=\"left\")\n",
        "    plt.show()\n",
        "\n",
        "    # Espaço entre os gráficos\n",
        "    print()"
      ],
      "execution_count": null,
      "outputs": []
    },
    {
      "cell_type": "markdown",
      "source": [
        "**Machine Learning**\n",
        "\n",
        "Removendo as colunas não utilizados e adicionando o diagnóstico nas amostras de cada tipo tumoral"
      ],
      "metadata": {
        "id": "_vOk_QOwNtlb"
      }
    },
    {
      "cell_type": "code",
      "metadata": {
        "id": "QqIcdmiMv-mF"
      },
      "source": [
        "df_temp_colunas_selecionadas = ['Sample', 'ENSG00000135318.11', 'cancer type abbreviation']\n",
        "for x_item in methylation:\n",
        "  df_temp_colunas_selecionadas.append(x_item)\n",
        "\n",
        "df_temp = data[df_temp_colunas_selecionadas]\n",
        "df_temp['Sample type'] = ''\n",
        "\n",
        "for x_index, x_item in df_temp.iterrows():\n",
        "  type_indice = x_item['Sample'][13]+x_item['Sample'][14]\n",
        "  if type_indice == '01' or type_indice == '05':\n",
        "    df_temp.loc[x_index, 'Sample type'] = 'Tumor Sample'\n",
        "  elif type_indice == '11':\n",
        "    df_temp.loc[x_index, 'Sample type'] = 'Normal Sample'\n",
        "display(df_temp)\n",
        "data = df_temp"
      ],
      "execution_count": null,
      "outputs": []
    },
    {
      "cell_type": "markdown",
      "source": [
        "**Aplicação do Machine Learning**\n",
        "\n",
        "Hold-out simples ou com grupo de validação\n",
        "\n",
        "Geração da Curva Roc"
      ],
      "metadata": {
        "id": "61nx9otuSUuj"
      }
    },
    {
      "cell_type": "code",
      "source": [
        "## Configurações iniciais (Escolha da técnica e dos tipos tumorais que serão analisados)\n",
        "# Tumor específico ou 'all' para analisar todos os tipos tumorais\n",
        "tumor_type = 'all'\n",
        "\n",
        "# Escolha da técnica utilizada (holdout_simple ou holdout_validation)\n",
        "model_validation_techniques = \"holdout_simple\"\n",
        "\n",
        "# parâmetros\n",
        "random_state_parameter = 14\n",
        "test_size_parameter = 0.50"
      ],
      "metadata": {
        "id": "ung_7_iXJVnC"
      },
      "execution_count": null,
      "outputs": []
    },
    {
      "cell_type": "code",
      "source": [
        "# Separação das amostras por tipo tumoral conforme a seleção e os testes realizados\n",
        "# Aplicação do machine learning em cada tipo tumoral\n",
        "\n",
        "from sklearn.model_selection import train_test_split\n",
        "from sklearn.ensemble import RandomForestClassifier\n",
        "from sklearn import metrics\n",
        "from sklearn.metrics import precision_score\n",
        "from sklearn.metrics import classification_report\n",
        "\n",
        "from sklearn.svm import SVC\n",
        "from sklearn.metrics import RocCurveDisplay\n",
        "\n",
        "from pandas import DataFrame\n",
        "\n",
        "import numpy as np \n",
        "import seaborn as sns\n",
        "import matplotlib.pyplot as plt\n",
        "\n",
        "methylation_genes = ['ENSG00000135318.11']+methylation\n",
        "\n",
        "# Criando um data frame para cada tipo de métrica\n",
        "# Métricas (accuracy, precision, recall e f1)\n",
        "df_temp = methylation_genes.copy()\n",
        "df_temp.insert(0, 'tumor type')\n",
        "df_accuracy = pd.DataFrame(columns=df_temp)\n",
        "df_precision = pd.DataFrame(columns=df_temp)\n",
        "df_recall = pd.DataFrame(columns=df_temp)\n",
        "df_f1 = pd.DataFrame(columns=df_temp)\n",
        "\n",
        "\n",
        "def tipo_tumoral_random_forest(df_tipo_tumoral, nomenclatura_tipo_tumoral, tumor_index):\n",
        "  # Valida o tipo tumoral escolhido para a análise\n",
        "  nomenclatureSplit = nomenclatura_tipo_tumoral.split('-')\n",
        "  if tumor_type != 'all' and nomenclatureSplit[1].strip(\" \") not in tumor_type:\n",
        "    return\n",
        "\n",
        "  print('Tumor type: '+nomenclatura_tipo_tumoral)\n",
        "  for index, gene in enumerate(methylation_genes):\n",
        "    # Cria a tabelas temporárias para cada análise (Gene e (Gene + metilação))\n",
        "    df_temp = create_df_temp(df_tipo_tumoral, gene)\n",
        "    # Remove os items apenas dos data fremes temporários que tiverem metilação inclusa\n",
        "    if index > 0:\n",
        "      df_temp = remove_samples_no_value(df_temp)\n",
        "    # Caso não tiver amostras, utiliza um 0 nos data frames de métricas\n",
        "    if len(df_temp) == 0:\n",
        "      insert_value_metrics(tumor_index, gene, [0,0,0,0])\n",
        "      continue\n",
        "    # Machine learning para cada combinação e tipo tumoral\n",
        "    applying_machine_learning(df_temp, index, gene, nomenclatura_tipo_tumoral, tumor_index)\n",
        "\n",
        "# Criando as seleções de genes\n",
        "def create_df_temp(df_tipo_tumoral, current_gene):\n",
        "  selected_columns = ['ENSG00000135318.11']\n",
        "  if current_gene != selected_columns[0]:\n",
        "    selected_columns.insert(1, current_gene)\n",
        "  selected_columns.insert(2, 'Sample type')\n",
        "  selected_columns.insert(3, 'Sample')\n",
        "  df_temp = df_tipo_tumoral[selected_columns]\n",
        "  return df_temp\n",
        "\n",
        "# Removendo amostras que não possuem um valor (nan)\n",
        "def remove_samples_no_value(df_gene_selection):\n",
        "  for index, row in df_gene_selection.iterrows():\n",
        "    if str(row[1]) == str('nan'):\n",
        "      df_gene_selection = df_gene_selection.drop(index)\n",
        "  return df_gene_selection\n",
        "\n",
        "# Aplicação do machine learning\n",
        "def applying_machine_learning(df_gene_selection, index, gene, nomenclatura_tipo_tumoral, tumor_index):\n",
        "  X_columns = ['ENSG00000135318.11'] if index == 0 else ['ENSG00000135318.11', gene]\n",
        "  X = df_gene_selection[X_columns]\n",
        "  y = df_gene_selection['Sample type']\n",
        "\n",
        "  # Método Hold-out de forma simples, sem uma nova divisão do treinamento em validação\n",
        "  if model_validation_techniques == 'holdout_simple':\n",
        "    X_train, X_test, y_train, y_test, y_pred = holdout_simple(X, y, random_state_parameter)\n",
        "  \n",
        "  # Método Hold-out com uma nova divisão do treinamento em validação\n",
        "  if model_validation_techniques == 'holdout_validation':\n",
        "    X_train, X_test, y_train, y_test, y_pred = holdout_with_validation(X, y)\n",
        "\n",
        "  # metricas resultantes\n",
        "  value_metrics = [\n",
        "      metrics.accuracy_score(y_test, y_pred),\n",
        "      metrics.precision_score(y_test, y_pred, average='macro'),\n",
        "      metrics.recall_score(y_test, y_pred, average='macro'),\n",
        "      metrics.f1_score(y_test, y_pred, average='macro')\n",
        "  ]\n",
        "\n",
        "  # Incluindo o tipo tumoral nos data frames\n",
        "  insert_tumor_type(index, tumor_index, nomenclatura_tipo_tumoral)\n",
        "  # Incluindo os valores(métricas) nos data frames\n",
        "  insert_value_metrics(tumor_index, gene, value_metrics)\n",
        "\n",
        "  # Curva Roc\n",
        "  # Amostras normais\n",
        "  roc_curve(df_gene_selection, tumor_index, index, gene, X_train, y_train, X_test, y_test, \"Normal Sample\", \"Normal samples\")\n",
        "  # Amostras tumorais\n",
        "  roc_curve(df_gene_selection, tumor_index, index, gene, X_train, y_train, X_test, y_test, \"Tumor Sample\", \"Tumor samples\")\n",
        "\n",
        "# Hold-out simples\n",
        "def holdout_simple(X, y, randon_state):\n",
        "  # 50% training and 50% test\n",
        "  X_train, X_test, y_train, y_test = train_test_split(X, y, test_size=test_size_parameter, random_state = randon_state)\n",
        "  clf=RandomForestClassifier(n_estimators=100)\n",
        "  clf.fit(X_train,y_train)\n",
        "  y_pred=clf.predict(X_test)\n",
        "  return X_train, X_test, y_train, y_test, y_pred\n",
        "\n",
        "# Hold-out com a divisão do treinamento em um novo grupo de validação\n",
        "def holdout_with_validation(X, y):\n",
        "  count = 0\n",
        "  better_model_accuracy = []\n",
        "\n",
        "  X_train, X_test, y_train, y_test = train_test_split(X, y, test_size=test_size_parameter, random_state = random_state_parameter)\n",
        "  \n",
        "  while count <= 100:\n",
        "    X_train_v, X_test_v, y_train_v, y_test_v, y_pred_v = holdout_simple(X_train, y_train, count)\n",
        "    better_model_accuracy.append(metrics.accuracy_score(y_test_v, y_pred_v))\n",
        "    count = count + 1\n",
        "  \n",
        "  best_parameter = better_model_accuracy.index(max(better_model_accuracy))\n",
        "  X_train_f, X_test_f, y_train_f, y_test_f, y_pred_f = holdout_simple(X_train, y_train, best_parameter)\n",
        "\n",
        "  clf=RandomForestClassifier(n_estimators=100)\n",
        "  clf.fit(X_train_f,y_train_f)\n",
        "  y_pred=clf.predict(X_test)\n",
        "  return X_train_f, X_test, y_train_f, y_test, y_pred\n",
        "\n",
        "# Gerando a curva roc para cada análise\n",
        "def roc_curve(df_gene_selection, tumor_index, index, gene, X_train, y_train, X_test, y_test, pos_label, ylabel):\n",
        "  rows_count = len(X_train.index)\n",
        "  # Gera a curva apenas para o tipo tumral THCA\n",
        "  if rows_count <= 15 or tumor_index != 2:\n",
        "    return \n",
        "  description = gene if index == 0 else \"ENSG00000135318.11 + \"+gene\n",
        "  print()\n",
        "\n",
        "  clf = SVC(random_state=random_state_parameter).fit(X_train, y_train)\n",
        "\n",
        "  RocCurveDisplay.from_estimator(clf, X_test, y_test, pos_label=pos_label)\n",
        "  plt.title(description)\n",
        "  plt.xlabel('')\n",
        "  plt.ylabel(ylabel)\n",
        "  plt.show()\n",
        "\n",
        "# Inserindo os tipos tumorais dentro das métricas\n",
        "def insert_tumor_type(index, tumor_index, nomenclatura_tipo_tumoral):\n",
        "  if index == 0:\n",
        "    df_accuracy.loc[tumor_index, 'tumor type'] = nomenclatura_tipo_tumoral\n",
        "    df_precision.loc[tumor_index, 'tumor type'] = nomenclatura_tipo_tumoral\n",
        "    df_recall.loc[tumor_index, 'tumor type'] = nomenclatura_tipo_tumoral\n",
        "    df_f1.loc[tumor_index, 'tumor type'] = nomenclatura_tipo_tumoral\n",
        "\n",
        "# Inserido os resultados em cada métrica\n",
        "def insert_value_metrics(tumor_index, gene, value_metrics):\n",
        "  df_accuracy.loc[tumor_index, str(gene)] = value_metrics[0]\n",
        "  df_precision.loc[tumor_index, str(gene)] = value_metrics[1]\n",
        "  df_recall.loc[tumor_index, str(gene)] = value_metrics[2]\n",
        "  df_f1.loc[tumor_index, str(gene)] = value_metrics[3]\n",
        "\n",
        "# Seleção por tipo tumoral\n",
        "index = 0\n",
        "for x_index, x_item in enumerate(df_relevant_tumor_types.iterrows()):\n",
        "  df_tipo_tumoral = False\n",
        "  df_tipo_tumoral = pd.DataFrame(columns=data.columns.values.tolist())\n",
        "  tipo_tumoral_relevante = x_item[1]['Sample'].split('-')\n",
        "\n",
        "  # Seleção das amostras através do tipo tumoral (x_item)\n",
        "  tipo_tumoral_relevante_index = 0\n",
        "  for y_index, y_item in enumerate(data.iterrows()):\n",
        "    if str(tipo_tumoral_relevante[0].strip(\" \")) == str(y_item[1]['cancer type abbreviation']):\n",
        "      df_tipo_tumoral.loc[tipo_tumoral_relevante_index] = data.loc[y_index]\n",
        "      tipo_tumoral_relevante_index = tipo_tumoral_relevante_index + 1\n",
        "  tipo_tumoral_random_forest(df_tipo_tumoral, x_item[1]['Sample'], index)\n",
        "  index=index+1"
      ],
      "metadata": {
        "id": "aowL0cjxSR9B"
      },
      "execution_count": null,
      "outputs": []
    },
    {
      "cell_type": "markdown",
      "source": [
        "**Heat maps**"
      ],
      "metadata": {
        "id": "6ToLtmZYuM5M"
      }
    },
    {
      "cell_type": "code",
      "source": [
        "def delete_column(df_metrics, name_column):\n",
        "  if name_column in df_metrics.columns:\n",
        "    df_metrics = df_metrics.drop(name_column, 1)\n",
        "  return df_metrics\n",
        "\n",
        "def delete_row(df_metrics, name_row):\n",
        "  metrics_row = df_metrics[df_metrics[\"tumor type\"]==name_row].index\n",
        "  df_metrics = df_metrics.drop(metrics_row)\n",
        "  return df_metrics  \n",
        "\n",
        "def display_heat_map(df_metrics, type_metrics):\n",
        "  print('')\n",
        "  print(type_metrics)\n",
        "  \n",
        "  df_metrics = delete_column(df_metrics, 'cg17488985.1')\n",
        "  df_metrics = delete_column(df_metrics, 'cg17966619.1')\n",
        "  df_metrics = delete_row(df_metrics, '10.0 - KICH') \n",
        "\n",
        "  df_tumor_types = df_metrics['tumor type'].values.tolist()\n",
        "  df_metrics = delete_column(df_metrics, 'tumor type')\n",
        "  \n",
        "  df_cols = ['ENSG00000135318.11', 'cg27039625', 'cg17644557', 'cg13315970', 'cg21730993', 'cg10663055', 'cg17488985', 'cg24635468', 'cg23157089', 'cg17966619', 'cg27297263', 'cg00925339', 'cg23172664', 'cg24702826', 'cg09989847']\n",
        "\n",
        "  df_formatted = pd.DataFrame(df_metrics.values.tolist(), index=df_tumor_types, columns=df_cols)\n",
        "  plt.figure(1, figsize=(20, 13))\n",
        "  cmap = sns.cm.rocket_r\n",
        "  sns.heatmap(df_formatted, annot=True, cmap=cmap)\n",
        "  plt.show()\n",
        "\n",
        "display_heat_map(df_accuracy, 'Accuracy')\n",
        "display_heat_map(df_precision, 'Precision')\n",
        "display_heat_map(df_recall, 'Recall')\n",
        "display_heat_map(df_f1, 'F1')"
      ],
      "metadata": {
        "id": "KA55fc-sCNej"
      },
      "execution_count": null,
      "outputs": []
    }
  ]
}